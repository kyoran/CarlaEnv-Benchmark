{
 "cells": [
  {
   "cell_type": "markdown",
   "id": "8920aa68",
   "metadata": {
    "ExecuteTime": {
     "end_time": "2022-09-26T13:07:11.314644Z",
     "start_time": "2022-09-26T13:07:11.308499Z"
    }
   },
   "source": [
    "```\n",
    "sudo docker run --privileged --user carla --gpus all --net=host -e DISPLAY=$DISPLAY carlasim/carla-add:0.9.13 /bin/bash ./CarlaUE4.sh -world-port=12321 -RenderOffScreen\n",
    "```"
   ]
  },
  {
   "cell_type": "code",
   "execution_count": 1,
   "id": "c9ecaf27",
   "metadata": {
    "ExecuteTime": {
     "end_time": "2022-09-26T13:45:33.739958Z",
     "start_time": "2022-09-26T13:45:33.181305Z"
    }
   },
   "outputs": [],
   "source": [
    "import carla\n",
    "\n",
    "import json\n",
    "import matplotlib.pyplot as plt\n",
    "\n",
    "%matplotlib inline\n",
    "%config InlineBackend.figure_format = 'svg'"
   ]
  },
  {
   "cell_type": "code",
   "execution_count": 2,
   "id": "c2e7e30d",
   "metadata": {
    "ExecuteTime": {
     "end_time": "2022-09-26T13:45:33.758265Z",
     "start_time": "2022-09-26T13:45:33.741793Z"
    }
   },
   "outputs": [],
   "source": [
    "from env.CarlaEnv import CarlaEnv\n",
    "from utils.VideoRecorder import VideoRecorder"
   ]
  },
  {
   "cell_type": "code",
   "execution_count": 3,
   "id": "5f824cdc",
   "metadata": {
    "ExecuteTime": {
     "end_time": "2022-09-26T13:45:33.762601Z",
     "start_time": "2022-09-26T13:45:33.759684Z"
    }
   },
   "outputs": [],
   "source": [
    "with open('./cfg/weather.json', 'r', encoding='utf8') as fff:\n",
    "    weather_params = json.load(fff)\n",
    "with open('./cfg/scenario.json', 'r', encoding='utf8') as fff:\n",
    "    scenario_params = json.load(fff)"
   ]
  },
  {
   "cell_type": "code",
   "execution_count": 4,
   "id": "d2c45bc5",
   "metadata": {
    "ExecuteTime": {
     "end_time": "2022-09-26T13:45:33.766888Z",
     "start_time": "2022-09-26T13:45:33.764309Z"
    }
   },
   "outputs": [],
   "source": [
    "fps = 20"
   ]
  },
  {
   "cell_type": "code",
   "execution_count": 5,
   "id": "5728938a",
   "metadata": {
    "ExecuteTime": {
     "end_time": "2022-09-26T13:45:48.295781Z",
     "start_time": "2022-09-26T13:45:34.012431Z"
    },
    "scrolled": false
   },
   "outputs": [
    {
     "name": "stdout",
     "output_type": "stream",
     "text": [
      "carla env reset done.\n"
     ]
    }
   ],
   "source": [
    "carla_env = CarlaEnv(\n",
    "    weather_params=weather_params,\n",
    "    scenario_params=scenario_params,\n",
    "    selected_weather=\"L1\",\n",
    "    selected_scenario=\"jaywalk\",\n",
    "    carla_rpc_port=12321,\n",
    "    carla_tm_port=18935,\n",
    "    carla_timeout=8,\n",
    "    perception_type=\"dvs_frame\",\n",
    "    num_cameras=5,\n",
    "    rl_image_size=128,\n",
    "    fov=60,\n",
    "    max_fps=fps,\n",
    "    min_fps=fps,\n",
    "    max_episode_steps=1000,\n",
    "    frame_skip=1,\n",
    ")"
   ]
  },
  {
   "cell_type": "code",
   "execution_count": 6,
   "id": "ad2a54e9",
   "metadata": {
    "ExecuteTime": {
     "end_time": "2022-09-26T13:45:48.299926Z",
     "start_time": "2022-09-26T13:45:48.297787Z"
    }
   },
   "outputs": [],
   "source": [
    "throttles = []\n",
    "brakes = []\n",
    "velocitys = []"
   ]
  },
  {
   "cell_type": "code",
   "execution_count": 7,
   "id": "d463f005",
   "metadata": {
    "ExecuteTime": {
     "end_time": "2022-09-26T13:45:48.308204Z",
     "start_time": "2022-09-26T13:45:48.301044Z"
    }
   },
   "outputs": [],
   "source": [
    "max_episode_num = 100\n",
    "max_step_num = 200"
   ]
  },
  {
   "cell_type": "code",
   "execution_count": 8,
   "id": "ef43df31",
   "metadata": {
    "ExecuteTime": {
     "end_time": "2022-09-26T13:45:48.311897Z",
     "start_time": "2022-09-26T13:45:48.309856Z"
    }
   },
   "outputs": [],
   "source": [
    "video = VideoRecorder(\"./video\", fps=fps)\n",
    "video.init(True)"
   ]
  },
  {
   "cell_type": "code",
   "execution_count": null,
   "id": "dc4877f8",
   "metadata": {
    "ExecuteTime": {
     "start_time": "2022-09-26T13:45:37.995Z"
    }
   },
   "outputs": [
    {
     "name": "stdout",
     "output_type": "stream",
     "text": [
      "carla env reset done.\n",
      "frame: 379\n",
      "save video done.\n",
      "\n",
      "carla env reset done.\n",
      "frame: 251Collision (intensity 224.61797704275546)\n",
      "Collision (intensity 51.81707098259146)\n",
      "frame: 301Collision (intensity 156.61827593888847)\n",
      "Collision (intensity 857.1324362700907)\n",
      "Collision (intensity 213.62923188751998)\n",
      "Collision (intensity 4.660282185560312)\n",
      "Collision (intensity 28.732458828063596)\n",
      "Collision (intensity 6.703749534446459)\n",
      "frame: 302Collision (intensity 33.69836357581768)\n",
      "Collision (intensity 9.745559035728363)\n",
      "Collision (intensity 57.41039902813884)\n",
      "Collision (intensity 30.66700224383797)\n",
      "Collision (intensity 24.98985284080587)\n",
      "Collision (intensity 38.220743588711876)\n",
      "Collision (intensity 130.3106293731169)\n",
      "Collision (intensity 10.454654998158407)\n",
      "Collision (intensity 22.105186366005547)\n",
      "Collision (intensity 13.33337232793836)\n",
      "Collision (intensity 0.8388244863987504)\n",
      "Collision (intensity 78.04961679542097)\n",
      "Collision (intensity 16.14294490645484)\n",
      "frame: 303Collision (intensity 69.86215591480989)\n",
      "Collision (intensity 1.8152338255860687)\n",
      "Collision (intensity 135.69865150246144)\n",
      "Collision (intensity 114.45261393156382)\n",
      "Collision (intensity 17.38121915955939)\n",
      "Collision (intensity 115.12918756578674)\n",
      "Collision (intensity 14.519303356883709)\n",
      "Collision (intensity 1.1718496937125416)\n",
      "Collision (intensity 27.296650594359278)\n",
      "Collision (intensity 97.3729005626861)\n",
      "Collision (intensity 2.7149771774893128)\n",
      "Collision (intensity 0.19234346894463064)\n",
      "Collision (intensity 7.877736654962506)\n",
      "Collision (intensity 56.92709680764976)\n",
      "Collision (intensity 9.012359552341449)\n",
      "frame: 304Collision (intensity 30.27990394186542)\n",
      "Collision (intensity 9.329231292892079)\n",
      "Collision (intensity 5.394925306980492)\n",
      "Collision (intensity 6.7516191961778595)\n",
      "Collision (intensity 3.4829814889787585)\n",
      "Collision (intensity 0.20762929310899253)\n",
      "Collision (intensity 10.604735888142246)\n",
      "Collision (intensity 1.1600191224492917)\n",
      "Collision (intensity 22.018615391241163)\n",
      "Collision (intensity 0.1364503527957397)\n",
      "frame: 305Collision (intensity 33.65684925275609)\n",
      "Collision (intensity 37.146290230025514)\n",
      "Collision (intensity 45.58632125614196)\n",
      "Collision (intensity 20.06273456460149)\n",
      "frame: 306Collision (intensity 0.27183350200527157)\n",
      "frame: 316Collision (intensity 33.00354573344296)\n",
      "frame: 317Collision (intensity 1.7239644069989373)\n",
      "Collision (intensity 0.6944461240277015)\n",
      "Collision (intensity 10.488510886051843)\n",
      "frame: 323Collision (intensity 150.20053518522522)\n",
      "Collision (intensity 253.37570984793092)\n",
      "Collision (intensity 196.98215339269169)\n",
      "frame: 324Collision (intensity 65.31192310658467)\n",
      "Collision (intensity 26.097487698707443)\n",
      "Collision (intensity 11.101091957369894)\n",
      "Collision (intensity 8.004447099414712)\n",
      "Collision (intensity 4.880382191938853)\n",
      "frame: 325Collision (intensity 4.1523472798566265)\n",
      "Collision (intensity 5.525803837113448)\n",
      "Collision (intensity 7.033413126350352)\n",
      "Collision (intensity 8.829347476566667)\n",
      "Collision (intensity 10.570869985644972)\n",
      "frame: 326Collision (intensity 12.130716984184618)\n",
      "Collision (intensity 13.549236531760199)\n",
      "Collision (intensity 1.9228069069866978)\n",
      "frame: 328Collision (intensity 9.686877527835946)\n",
      "Collision (intensity 42.77540689031843)\n",
      "frame: 331Collision (intensity 19.82976596519673)\n",
      "frame: 359Collision (intensity 0.0)\n",
      "frame: 362Collision (intensity 15.201775508062033)\n",
      "Collision (intensity 12.558694380713108)\n",
      "Collision (intensity 10.88481028162595)\n",
      "frame: 363Collision (intensity 18.366399282521574)\n",
      "Collision (intensity 9.89155378669468)\n",
      "Collision (intensity 4.766545276355297)\n",
      "Collision (intensity 4.083570751169086)\n",
      "Collision (intensity 11.360353934278676)\n",
      "frame: 364Collision (intensity 14.75940719601633)\n",
      "Collision (intensity 12.011549261766456)\n",
      "Collision (intensity 7.9857537026418255)\n",
      "Collision (intensity 4.99975167609597)\n",
      "Collision (intensity 8.758116701592918)\n",
      "Collision (intensity 12.074006770211831)\n",
      "Collision (intensity 10.292302773453127)\n",
      "frame: 365Collision (intensity 7.24585554127342)\n",
      "Collision (intensity 7.981616379016347)\n",
      "Collision (intensity 4.767625973215844)\n",
      "Collision (intensity 5.158842175606327)\n",
      "Collision (intensity 3.05495367827625)\n",
      "Collision (intensity 2.3449869732965056)\n",
      "Collision (intensity 2.7417771142134892)\n",
      "Collision (intensity 0.8656763150671172)\n",
      "Collision (intensity 1.468684942598801)\n",
      "frame: 366Collision (intensity 1.3990066944756205)\n",
      "Collision (intensity 1.5785384687613138)\n",
      "Collision (intensity 0.5194129268746827)\n",
      "Collision (intensity 1.1458865913458518)\n",
      "Collision (intensity 1.602801071210514)\n",
      "frame: 367Collision (intensity 3.6462913418850995)\n",
      "Collision (intensity 2.6466752753173464)\n",
      "Collision (intensity 1.4734820717815578)\n",
      "Collision (intensity 0.09166543569436707)\n",
      "frame: 378Episode fail: speed too small (0.0), think I'm stuck! (frame 200)\n",
      "frame: 380\n",
      "save video done.\n",
      "\n",
      "carla env reset done.\n",
      "frame: 153"
     ]
    }
   ],
   "source": [
    "for one_episode in range(max_episode_num):\n",
    "    \n",
    "    carla_env.reset()\n",
    "    \n",
    "    throttle = []\n",
    "    brake = []\n",
    "    velocity = []\n",
    "    \n",
    "    for one_step in range(max_step_num):\n",
    "        \n",
    "        if one_step <= 100:\n",
    "            action = [0, 0.7]\n",
    "        else:\n",
    "            action = [0, -0.3]\n",
    "        \n",
    "        obs, reward, done, info = carla_env.step(action)\n",
    "\n",
    "        video.record(obs, carla_env.vehicle)\n",
    "\n",
    "\n",
    "        print(f\"\\rframe: {carla_env.frame}\", end=\"\")\n",
    "\n",
    "        throttle.append(carla_env.vehicle.get_control().throttle)\n",
    "        brake.append(carla_env.vehicle.get_control().brake)\n",
    "        velocity.append(carla_env.vehicle.get_velocity().x)\n",
    "\n",
    "    video.save(f\"test-{one_episode+1}\")\n",
    "    print(f\"\\nsave video done.\\n\")\n",
    "\n",
    "    throttles.append(throttle)\n",
    "    brakes.append(brake)\n",
    "    velocitys.append(velocity)\n",
    "    "
   ]
  },
  {
   "cell_type": "code",
   "execution_count": null,
   "id": "8da51be4",
   "metadata": {
    "ExecuteTime": {
     "end_time": "2022-09-22T12:02:41.340645Z",
     "start_time": "2022-09-22T12:02:40.426480Z"
    }
   },
   "outputs": [],
   "source": []
  },
  {
   "cell_type": "code",
   "execution_count": null,
   "id": "28f25850",
   "metadata": {
    "ExecuteTime": {
     "start_time": "2022-09-26T13:43:32.698Z"
    }
   },
   "outputs": [],
   "source": [
    "times = list(range(len(velocity)))\n",
    "\n",
    "plt.plot(times, velocity, label=\"velocity\")\n",
    "plt.plot(times, throttle, label=\"throttle\")\n",
    "plt.plot(times, brake, label=\"brake\")\n",
    "plt.legend()"
   ]
  },
  {
   "cell_type": "code",
   "execution_count": null,
   "id": "600debe2",
   "metadata": {},
   "outputs": [],
   "source": []
  },
  {
   "cell_type": "code",
   "execution_count": null,
   "id": "5fe34579",
   "metadata": {},
   "outputs": [],
   "source": []
  },
  {
   "cell_type": "code",
   "execution_count": null,
   "id": "1fcd0584",
   "metadata": {},
   "outputs": [],
   "source": []
  },
  {
   "cell_type": "code",
   "execution_count": null,
   "id": "86c33f6c",
   "metadata": {},
   "outputs": [],
   "source": []
  }
 ],
 "metadata": {
  "kernelspec": {
   "display_name": "carla-py3.7",
   "language": "python",
   "name": "carla-py3.7"
  },
  "language_info": {
   "codemirror_mode": {
    "name": "ipython",
    "version": 3
   },
   "file_extension": ".py",
   "mimetype": "text/x-python",
   "name": "python",
   "nbconvert_exporter": "python",
   "pygments_lexer": "ipython3",
   "version": "3.7.13"
  },
  "toc": {
   "base_numbering": 1,
   "nav_menu": {},
   "number_sections": true,
   "sideBar": true,
   "skip_h1_title": false,
   "title_cell": "Table of Contents",
   "title_sidebar": "Contents",
   "toc_cell": false,
   "toc_position": {},
   "toc_section_display": true,
   "toc_window_display": false
  }
 },
 "nbformat": 4,
 "nbformat_minor": 5
}
