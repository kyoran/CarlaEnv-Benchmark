{
 "cells": [
  {
   "cell_type": "markdown",
   "id": "d8e10e5b",
   "metadata": {
    "ExecuteTime": {
     "end_time": "2022-09-26T13:07:11.314644Z",
     "start_time": "2022-09-26T13:07:11.308499Z"
    }
   },
   "source": [
    "```\n",
    "sudo docker run --privileged --user carla --gpus all --net=host -e DISPLAY=$DISPLAY carlasim/carla-add:0.9.13 /bin/bash ./CarlaUE4.sh -world-port=12321 -RenderOffScreen\n",
    "```"
   ]
  },
  {
   "cell_type": "code",
   "execution_count": 1,
   "id": "c9ecaf27",
   "metadata": {
    "ExecuteTime": {
     "end_time": "2022-09-27T14:13:06.052915Z",
     "start_time": "2022-09-27T14:13:05.448940Z"
    }
   },
   "outputs": [],
   "source": [
    "import carla\n",
    "\n",
    "import json\n",
    "import matplotlib.pyplot as plt\n",
    "\n",
    "%matplotlib inline\n",
    "%config InlineBackend.figure_format = 'svg'"
   ]
  },
  {
   "cell_type": "code",
   "execution_count": 2,
   "id": "c2e7e30d",
   "metadata": {
    "ExecuteTime": {
     "end_time": "2022-09-27T14:13:06.071243Z",
     "start_time": "2022-09-27T14:13:06.054852Z"
    }
   },
   "outputs": [],
   "source": [
    "from env.CarlaEnv import CarlaEnv\n",
    "from utils.VideoRecorder import VideoRecorder"
   ]
  },
  {
   "cell_type": "code",
   "execution_count": 3,
   "id": "5f824cdc",
   "metadata": {
    "ExecuteTime": {
     "end_time": "2022-09-27T14:13:06.212062Z",
     "start_time": "2022-09-27T14:13:06.208793Z"
    }
   },
   "outputs": [],
   "source": [
    "with open('./cfg/weather.json', 'r', encoding='utf8') as fff:\n",
    "    weather_params = json.load(fff)\n",
    "with open('./cfg/scenario.json', 'r', encoding='utf8') as fff:\n",
    "    scenario_params = json.load(fff)"
   ]
  },
  {
   "cell_type": "code",
   "execution_count": 4,
   "id": "393e7503",
   "metadata": {
    "ExecuteTime": {
     "end_time": "2022-09-27T14:13:07.635001Z",
     "start_time": "2022-09-27T14:13:07.632701Z"
    }
   },
   "outputs": [],
   "source": [
    "fps = 20"
   ]
  },
  {
   "cell_type": "code",
   "execution_count": 5,
   "id": "5728938a",
   "metadata": {
    "ExecuteTime": {
     "end_time": "2022-09-26T15:23:21.959189Z",
     "start_time": "2022-09-26T15:23:06.348975Z"
    },
    "scrolled": false
   },
   "outputs": [
    {
     "name": "stdout",
     "output_type": "stream",
     "text": [
      "carla env reset done.\n"
     ]
    }
   ],
   "source": [
    "carla_env = CarlaEnv(\n",
    "    weather_params=weather_params,\n",
    "    scenario_params=scenario_params,\n",
    "    selected_weather=\"L1\",\n",
    "    selected_scenario=\"jaywalk\",\n",
    "    carla_rpc_port=12321,\n",
    "    carla_tm_port=18935,\n",
    "    carla_timeout=8,\n",
    "    perception_type=\"dvs_frame\",\n",
    "    num_cameras=5,\n",
    "    rl_image_size=128,\n",
    "    fov=60,\n",
    "    max_fps=fps,\n",
    "    min_fps=fps,\n",
    "    max_episode_steps=1000,\n",
    "    frame_skip=1,\n",
    ")"
   ]
  },
  {
   "cell_type": "code",
   "execution_count": 6,
   "id": "ad2a54e9",
   "metadata": {
    "ExecuteTime": {
     "end_time": "2022-09-26T15:23:21.963867Z",
     "start_time": "2022-09-26T15:23:21.961130Z"
    }
   },
   "outputs": [],
   "source": [
    "throttles = []\n",
    "brakes = []\n",
    "velocitys = []"
   ]
  },
  {
   "cell_type": "code",
   "execution_count": 7,
   "id": "7b381ace",
   "metadata": {
    "ExecuteTime": {
     "end_time": "2022-09-26T15:23:21.976587Z",
     "start_time": "2022-09-26T15:23:21.965548Z"
    }
   },
   "outputs": [],
   "source": [
    "max_episode_num = 100\n",
    "max_step_num = 200"
   ]
  },
  {
   "cell_type": "code",
   "execution_count": 8,
   "id": "ef43df31",
   "metadata": {
    "ExecuteTime": {
     "end_time": "2022-09-26T15:23:21.983576Z",
     "start_time": "2022-09-26T15:23:21.978111Z"
    }
   },
   "outputs": [],
   "source": [
    "video = VideoRecorder(\"./video\", fps=fps)"
   ]
  },
  {
   "cell_type": "code",
   "execution_count": null,
   "id": "dc4877f8",
   "metadata": {
    "ExecuteTime": {
     "start_time": "2022-09-26T15:23:05.684Z"
    },
    "scrolled": true
   },
   "outputs": [
    {
     "name": "stdout",
     "output_type": "stream",
     "text": [
      "starting episode: 1\n",
      "carla env reset done.\n",
      "frame: 379\n",
      "save video done.\n",
      "\n",
      "starting episode: 2\n"
     ]
    }
   ],
   "source": [
    "for one_episode in range(max_episode_num):\n",
    "    \n",
    "    try:\n",
    "        print(\"starting episode:\", one_episode+1)\n",
    "        carla_env.reset()\n",
    "\n",
    "        throttle = []\n",
    "        brake = []\n",
    "        velocity = []\n",
    "\n",
    "        video.init(True) \n",
    "        for one_step in range(max_step_num):\n",
    "\n",
    "            if one_step <= 100:\n",
    "                action = [0, 0.7]\n",
    "            else:\n",
    "                action = [0, -0.3]\n",
    "\n",
    "            obs, reward, done, info = carla_env.step(action)\n",
    "\n",
    "            video.record(obs, carla_env.vehicle)\n",
    "\n",
    "\n",
    "            print(f\"\\rframe: {carla_env.frame}\", end=\"\")\n",
    "\n",
    "            throttle.append(carla_env.vehicle.get_control().throttle)\n",
    "            brake.append(carla_env.vehicle.get_control().brake)\n",
    "            velocity.append(carla_env.vehicle.get_velocity().x)\n",
    "    except Exception as e:\n",
    "        print(e)\n",
    "        \n",
    "    video.save(f\"test-{one_episode+1}\")\n",
    "    print(f\"\\nsave video done.\\n\")\n",
    "\n",
    "    throttles.append(throttle)\n",
    "    brakes.append(brake)\n",
    "    velocitys.append(velocity)\n",
    "    "
   ]
  },
  {
   "cell_type": "code",
   "execution_count": null,
   "id": "8da51be4",
   "metadata": {
    "ExecuteTime": {
     "end_time": "2022-09-22T12:02:41.340645Z",
     "start_time": "2022-09-22T12:02:40.426480Z"
    }
   },
   "outputs": [],
   "source": []
  },
  {
   "cell_type": "code",
   "execution_count": null,
   "id": "28f25850",
   "metadata": {
    "ExecuteTime": {
     "start_time": "2022-09-26T15:23:05.686Z"
    }
   },
   "outputs": [],
   "source": [
    "times = list(range(len(velocity)))\n",
    "\n",
    "plt.plot(times, velocity, label=\"velocity\")\n",
    "plt.plot(times, throttle, label=\"throttle\")\n",
    "plt.plot(times, brake, label=\"brake\")\n",
    "plt.legend()"
   ]
  },
  {
   "cell_type": "code",
   "execution_count": null,
   "id": "600debe2",
   "metadata": {},
   "outputs": [],
   "source": []
  },
  {
   "cell_type": "code",
   "execution_count": null,
   "id": "5fe34579",
   "metadata": {},
   "outputs": [],
   "source": []
  },
  {
   "cell_type": "code",
   "execution_count": null,
   "id": "1fcd0584",
   "metadata": {},
   "outputs": [],
   "source": []
  },
  {
   "cell_type": "code",
   "execution_count": null,
   "id": "86c33f6c",
   "metadata": {},
   "outputs": [],
   "source": []
  }
 ],
 "metadata": {
  "kernelspec": {
   "display_name": "carla-py3.7",
   "language": "python",
   "name": "carla-py3.7"
  },
  "language_info": {
   "codemirror_mode": {
    "name": "ipython",
    "version": 3
   },
   "file_extension": ".py",
   "mimetype": "text/x-python",
   "name": "python",
   "nbconvert_exporter": "python",
   "pygments_lexer": "ipython3",
   "version": "3.7.13"
  },
  "toc": {
   "base_numbering": 1,
   "nav_menu": {},
   "number_sections": true,
   "sideBar": true,
   "skip_h1_title": false,
   "title_cell": "Table of Contents",
   "title_sidebar": "Contents",
   "toc_cell": false,
   "toc_position": {},
   "toc_section_display": true,
   "toc_window_display": false
  }
 },
 "nbformat": 4,
 "nbformat_minor": 5
}
